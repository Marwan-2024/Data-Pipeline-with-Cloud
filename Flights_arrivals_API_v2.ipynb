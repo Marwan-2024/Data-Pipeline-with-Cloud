{
 "cells": [
  {
   "cell_type": "code",
   "execution_count": 10,
   "id": "3c92a357-d5d5-4268-8f41-65be4299cca4",
   "metadata": {
    "tags": []
   },
   "outputs": [],
   "source": [
    "import pandas as pd\n",
    "import requests\n",
    "from datetime import datetime, timedelta\n",
    "import json\n",
    "import pytz \n",
    "from IPython.display import JSON\n",
    "from keys import RapidAPI_Key\n",
    "from keys import MySQL_Pass\n",
    "\n",
    "def create_sql_connection():\n",
    "    schema = \"sql_escooter_forecast\"\n",
    "    host = \"127.0.0.1\"\n",
    "    user = \"root\"\n",
    "    password = MySQL_Pass\n",
    "    port = 3306\n",
    "    connection_string = f'mysql+pymysql://{user}:{password}@{host}:{port}/{schema}'\n",
    "\n",
    "    return connection_string\n",
    "\n",
    "def read_airports_from_sql(connection_str):\n",
    "    airports_df = pd.read_sql('SELECT city_id, icao FROM airports', connection_str)\n",
    "    return airports_df\n",
    "\n",
    "\n",
    "#def get_airports_in_city(cities_df): #this function is not used right now. The icao code for Berlin is hardcoded in function call\n",
    "#    city_name = cities_df['city']\n",
    "#    url = \"https://aerodatabox.p.rapidapi.com/airports/search/location\"\n",
    "#    querystring = {\"lat\":\"40.688812\",\"lon\":\"-74.044369\",\"radiusKm\":\"50\",\"limit\":\"10\",\"withFlightInfoOnly\":\"true\"}\n",
    "#    headers = {\n",
    "#        \"X-RapidAPI-Key\": \"SIGN-UP-FOR-KEY\",\n",
    "#        \"X-RapidAPI-Host\": \"aerodatabox.p.rapidapi.com\"\n",
    "#    }\n",
    "#    response = requests.get(url, headers=headers, params=querystring)\n",
    "#    print(response.json())\n",
    "#   \n",
    "#    return icao_list\n",
    "    \n",
    "def retrieve_flight_data(airports_df):\n",
    "    flight_items = []\n",
    "    berlin_timezone = pytz.timezone(\"Europe/Berlin\")  # Define Berlin timezone\n",
    "    current_datetime = datetime.now()\n",
    "    next_day_datetime = current_datetime + timedelta(days=1)\n",
    "    \n",
    "    icao_list = airports_df['icao'].tolist()\n",
    "    \n",
    "    for icao in icao_list:\n",
    "        # Define the time slots\n",
    "        time_slots = [\n",
    "            (next_day_datetime.replace(hour=0, minute=0, second=0, microsecond=0),\n",
    "             next_day_datetime.replace(hour=11, minute=59, second=59, microsecond=999999)),\n",
    "            (next_day_datetime.replace(hour=12, minute=0, second=0, microsecond=0),\n",
    "             next_day_datetime.replace(hour=23, minute=59, second=59, microsecond=999999))\n",
    "        ]\n",
    "\n",
    "        retrieval_time = datetime.now(berlin_timezone).strftime(\"%Y-%m-%d %H:%M:%S\")\n",
    "        url_base = f\"https://aerodatabox.p.rapidapi.com/flights/airports/icao/{icao}/\"\n",
    "        \n",
    "        headers = {\n",
    "            \"X-RapidAPI-Key\": RapidAPI_Key,\n",
    "            \"X-RapidAPI-Host\": \"aerodatabox.p.rapidapi.com\"\n",
    "        }\n",
    "\n",
    "        for i, (start_time, end_time) in enumerate(time_slots, start=1):\n",
    "            # Format the dates in the required format for the API\n",
    "            start_datetime = start_time.strftime(\"%Y-%m-%dT%H:%M\")\n",
    "            end_datetime = end_time.strftime(\"%Y-%m-%dT%H:%M\")\n",
    "\n",
    "            url = f\"{url_base}{start_datetime}/{end_datetime}\"\n",
    "\n",
    "            querystring = {\n",
    "                \"withLeg\": \"true\",\n",
    "                \"direction\": \"Arrival\",\n",
    "                \"withCancelled\": \"false\",\n",
    "                \"withCodeshared\": \"false\",\n",
    "                \"withCargo\": \"false\",\n",
    "                \"withPrivate\": \"false\",\n",
    "                \"withLocation\": \"false\",\n",
    "                \"start\": start_datetime,\n",
    "                \"end\": end_datetime\n",
    "            }\n",
    "\n",
    "            response = requests.get(url, headers=headers, params=querystring)\n",
    "\n",
    "            # Extract JSON data from response\n",
    "            data = response.json()\n",
    "\n",
    "            for item in data[\"arrivals\"]:\n",
    "                flight_item = {\n",
    "                    \"arrival_airport_icao\": icao,\n",
    "                    \"departure_airport_icao\": item[\"departure\"][\"airport\"].get(\"icao\", None),\n",
    "                    \"departure_airport_name\": item[\"departure\"][\"airport\"].get(\"name\", None),\n",
    "                    \"scheduled_arrival_time\": item[\"arrival\"][\"scheduledTime\"].get(\"local\", None),\n",
    "                    \"flight_number\": item.get(\"number\", None),\n",
    "                    \"data_retrieval_time\": retrieval_time\n",
    "                }\n",
    "\n",
    "                flight_items.append(flight_item)\n",
    "                \n",
    "            flights_df = pd.DataFrame(flight_items)\n",
    "            #flights_df[\"scheduled_arrival_time\"] = flights_df[\"scheduled_arrival_time\"].str[:-6]\n",
    "            flights_df['scheduled_arrival_time'] = pd.to_datetime(flights_df['scheduled_arrival_time']).dt.tz_localize(None)\n",
    "            flights_df[\"scheduled_arrival_time\"] = pd.to_datetime(flights_df[\"scheduled_arrival_time\"])\n",
    "            flights_df[\"data_retrieval_time\"] = pd.to_datetime(flights_df[\"data_retrieval_time\"])\n",
    "    \n",
    "    return flights_df\n",
    "\n",
    "def push_flights_data_to_sql(flights_df, conn_str):\n",
    "    \n",
    "    flights_df.to_sql('flights',\n",
    "                      if_exists='append',\n",
    "                      con=conn_str,\n",
    "                      index=False)\n",
    "    return 'Done Successfully!'"
   ]
  },
  {
   "cell_type": "code",
   "execution_count": 11,
   "id": "a0874dfb-9154-45bb-a624-7bb6e2e2f859",
   "metadata": {
    "tags": []
   },
   "outputs": [
    {
     "data": {
      "text/plain": [
       "'Done Successfully!'"
      ]
     },
     "execution_count": 11,
     "metadata": {},
     "output_type": "execute_result"
    }
   ],
   "source": [
    "con_str = create_sql_connection()\n",
    "airports_df = read_airports_from_sql(con_str)\n",
    "#icao_list = get_airports_in_city(city_df)\n",
    "#icao_list = [\"EDDB\"]  \n",
    "flight_data = retrieve_flight_data(airports_df)\n",
    "push_flights_data_to_sql(flight_data, con_str)"
   ]
  },
  {
   "cell_type": "code",
   "execution_count": 14,
   "id": "dad67d03-8652-48c3-ab45-98c0f9c97dce",
   "metadata": {
    "tags": []
   },
   "outputs": [
    {
     "data": {
      "text/html": [
       "<div>\n",
       "<style scoped>\n",
       "    .dataframe tbody tr th:only-of-type {\n",
       "        vertical-align: middle;\n",
       "    }\n",
       "\n",
       "    .dataframe tbody tr th {\n",
       "        vertical-align: top;\n",
       "    }\n",
       "\n",
       "    .dataframe thead th {\n",
       "        text-align: right;\n",
       "    }\n",
       "</style>\n",
       "<table border=\"1\" class=\"dataframe\">\n",
       "  <thead>\n",
       "    <tr style=\"text-align: right;\">\n",
       "      <th></th>\n",
       "      <th>city_id</th>\n",
       "      <th>icao</th>\n",
       "    </tr>\n",
       "  </thead>\n",
       "  <tbody>\n",
       "    <tr>\n",
       "      <th>0</th>\n",
       "      <td>1</td>\n",
       "      <td>EDDB</td>\n",
       "    </tr>\n",
       "    <tr>\n",
       "      <th>1</th>\n",
       "      <td>2</td>\n",
       "      <td>EDDM</td>\n",
       "    </tr>\n",
       "  </tbody>\n",
       "</table>\n",
       "</div>"
      ],
      "text/plain": [
       "   city_id  icao\n",
       "0        1  EDDB\n",
       "1        2  EDDM"
      ]
     },
     "execution_count": 14,
     "metadata": {},
     "output_type": "execute_result"
    }
   ],
   "source": [
    "airports_df"
   ]
  },
  {
   "cell_type": "code",
   "execution_count": null,
   "id": "7e3cb37f-d1e4-45e8-af40-0dbdabbd242b",
   "metadata": {},
   "outputs": [],
   "source": []
  }
 ],
 "metadata": {
  "kernelspec": {
   "display_name": "Python 3 (ipykernel)",
   "language": "python",
   "name": "python3"
  },
  "language_info": {
   "codemirror_mode": {
    "name": "ipython",
    "version": 3
   },
   "file_extension": ".py",
   "mimetype": "text/x-python",
   "name": "python",
   "nbconvert_exporter": "python",
   "pygments_lexer": "ipython3",
   "version": "3.11.5"
  }
 },
 "nbformat": 4,
 "nbformat_minor": 5
}
