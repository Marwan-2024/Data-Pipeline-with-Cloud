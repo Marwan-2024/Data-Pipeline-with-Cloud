{
 "cells": [
  {
   "cell_type": "code",
   "execution_count": 38,
   "id": "84fd11eb-52a8-4f16-ae78-e66b9bff7788",
   "metadata": {
    "tags": []
   },
   "outputs": [],
   "source": [
    "import pandas as pd\n",
    "import requests\n",
    "from bs4 import BeautifulSoup\n",
    "import sqlalchemy\n",
    "from keys import MySQL_Pass\n",
    "from keys import OpenWeather_API_key\n",
    "\n",
    "def create_sql_connection():\n",
    "    schema = \"sql_escooter_forecast\"\n",
    "    host = \"127.0.0.1\"\n",
    "    user = \"root\"\n",
    "    password = MySQL_Pass\n",
    "    port = 3306\n",
    "    connection_string = f'mysql+pymysql://{user}:{password}@{host}:{port}/{schema}'\n",
    "\n",
    "    return connection_string\n",
    "\n",
    "def read_city_table_from_sql(connection_str):\n",
    "    cities_df = pd.read_sql('SELECT city_id, city FROM cities', connection_str)\n",
    "    return cities_df\n",
    "\n",
    "def get_weather_info(cities_df):\n",
    "    API_key = OpenWeather_API_key\n",
    "    city_name = []\n",
    "    forecast_time = []\n",
    "    rain_in_last_3h = []\n",
    "    outlook = []\n",
    "    temp = []\n",
    "    feels_like = []\n",
    "    rain_prob = []\n",
    "    wind_speed = []\n",
    "    city_id = []\n",
    "    \n",
    "    for index, row in cities_df.iterrows():\n",
    "        city = row['city']\n",
    "        weather_data = requests.get(f\"http://api.openweathermap.org/data/2.5/forecast?q={'Berlin'}&appid={'5da7f5090cb9b90f1bfa7a1674c0f4a2'}&units=metric\")\n",
    "        weather_data_json = weather_data.json()\n",
    "        \n",
    "        #print(weather_data_json)  # Print the JSON response\n",
    "        \n",
    "        weather_list = weather_data_json.get(\"list\", [])  # Use .get() to handle missing keys\n",
    "        \n",
    "        for i, dt in enumerate(weather_list):\n",
    "            forecast_time.append(weather_list[i][\"dt\"])\n",
    "            temp.append(weather_list[i]['main'][\"temp\"])\n",
    "            feels_like.append(weather_list[i]['main'][\"feels_like\"])\n",
    "            rain_prob.append(weather_list[i]['pop'])\n",
    "            #rain_in_last_3h.append(weather_list[i]['rain']['3h'])\n",
    "            wind_speed.append(weather_list[i]['wind']['speed'])\n",
    "            outlook.append(weather_list[i]['weather'][0][\"description\"])\n",
    "            city_name.append(city)\n",
    "            city_id.append(cities_df['city_id'][index])\n",
    "            \n",
    "    weather_df = pd.DataFrame(list(zip(city_id, forecast_time, outlook,temp,  feels_like, wind_speed , rain_prob)), \n",
    "                                  columns=[\"city_id\", \"forecast_time\", \"outlook\", \"temperature\",  \"feels_like\", \"wind_speed\", \"rain_prob\"])\n",
    "    weather_df['forecast_time'] = pd.to_datetime(weather_df['forecast_time'], unit='s')\n",
    "    outlook_text = weather_df.iloc[0]['outlook']    \n",
    "    return weather_df\n",
    "\n",
    "def push_weather_data_to_sql(weather_df, conn_str):\n",
    "    outlook_text = weather_df.iloc[11]['outlook']\n",
    "    weather_df.to_sql('weather',\n",
    "                      if_exists='append',\n",
    "                      con=conn_str,\n",
    "                      index=False)\n",
    "    return f'Done Successfully! {outlook_text}'"
   ]
  },
  {
   "cell_type": "code",
   "execution_count": 42,
   "id": "a9a8b985-8962-44e1-91fa-ce4af312bf57",
   "metadata": {
    "tags": []
   },
   "outputs": [
    {
     "data": {
      "text/plain": [
       "'Done Successfully! light rain'"
      ]
     },
     "execution_count": 42,
     "metadata": {},
     "output_type": "execute_result"
    }
   ],
   "source": [
    "con_str = create_sql_connection()\n",
    "city_df = read_city_table_from_sql(con_str)\n",
    "weather_df = get_weather_info(city_df)\n",
    "push_weather_data_to_sql(weather_df, con_str)"
   ]
  },
  {
   "cell_type": "code",
   "execution_count": 25,
   "id": "4d98defa-d0a9-42e3-8aeb-d83ce549cf62",
   "metadata": {
    "tags": []
   },
   "outputs": [
    {
     "data": {
      "text/html": [
       "<div>\n",
       "<style scoped>\n",
       "    .dataframe tbody tr th:only-of-type {\n",
       "        vertical-align: middle;\n",
       "    }\n",
       "\n",
       "    .dataframe tbody tr th {\n",
       "        vertical-align: top;\n",
       "    }\n",
       "\n",
       "    .dataframe thead th {\n",
       "        text-align: right;\n",
       "    }\n",
       "</style>\n",
       "<table border=\"1\" class=\"dataframe\">\n",
       "  <thead>\n",
       "    <tr style=\"text-align: right;\">\n",
       "      <th></th>\n",
       "      <th>city_id</th>\n",
       "      <th>city</th>\n",
       "    </tr>\n",
       "  </thead>\n",
       "  <tbody>\n",
       "    <tr>\n",
       "      <th>0</th>\n",
       "      <td>1</td>\n",
       "      <td>Berlin</td>\n",
       "    </tr>\n",
       "  </tbody>\n",
       "</table>\n",
       "</div>"
      ],
      "text/plain": [
       "   city_id    city\n",
       "0        1  Berlin"
      ]
     },
     "execution_count": 25,
     "metadata": {},
     "output_type": "execute_result"
    }
   ],
   "source": [
    "city_df"
   ]
  },
  {
   "cell_type": "code",
   "execution_count": 26,
   "id": "101763d1-287d-4b9f-90e7-5ed57831b8d3",
   "metadata": {
    "tags": []
   },
   "outputs": [
    {
     "data": {
      "text/plain": [
       "0    Berlin\n",
       "Name: city, dtype: object"
      ]
     },
     "execution_count": 26,
     "metadata": {},
     "output_type": "execute_result"
    }
   ],
   "source": [
    "city_df['city']"
   ]
  },
  {
   "cell_type": "code",
   "execution_count": null,
   "id": "887a3bab-b331-44d5-a136-e679566c7386",
   "metadata": {},
   "outputs": [],
   "source": []
  }
 ],
 "metadata": {
  "kernelspec": {
   "display_name": "Python 3 (ipykernel)",
   "language": "python",
   "name": "python3"
  },
  "language_info": {
   "codemirror_mode": {
    "name": "ipython",
    "version": 3
   },
   "file_extension": ".py",
   "mimetype": "text/x-python",
   "name": "python",
   "nbconvert_exporter": "python",
   "pygments_lexer": "ipython3",
   "version": "3.11.5"
  }
 },
 "nbformat": 4,
 "nbformat_minor": 5
}
