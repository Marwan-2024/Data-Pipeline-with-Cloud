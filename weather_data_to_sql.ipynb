{
 "cells": [
  {
   "cell_type": "code",
   "execution_count": 82,
   "id": "95e83053-858a-4014-844b-661d691bd8d0",
   "metadata": {
    "tags": []
   },
   "outputs": [],
   "source": [
    "import pandas as pd\n",
    "import requests\n",
    "from bs4 import BeautifulSoup\n",
    "import sqlalchemy\n",
    "from keys import MySQL_Pass\n",
    "from keys import OpenWeather_API_key"
   ]
  },
  {
   "cell_type": "code",
   "execution_count": 83,
   "id": "716a8d1b-ba42-4896-961d-f43700aaf8df",
   "metadata": {
    "tags": []
   },
   "outputs": [],
   "source": [
    "schema = \"sql_population\"\n",
    "host = \"127.0.0.1\"\n",
    "user = \"root\"\n",
    "password = MySQL_Pass\n",
    "port = 3306\n",
    "\n",
    "connection_string = f'mysql+pymysql://{user}:{password}@{host}:{port}/{schema}'\n",
    "\n",
    "cities_df = pd.read_sql('SELECT city_id, city FROM cities', connection_string)"
   ]
  },
  {
   "cell_type": "code",
   "execution_count": 84,
   "id": "a0e1a8d1-222d-4eff-ab6d-2bd73e2b7b0b",
   "metadata": {
    "tags": []
   },
   "outputs": [
    {
     "data": {
      "text/plain": [
       "'Munich'"
      ]
     },
     "execution_count": 84,
     "metadata": {},
     "output_type": "execute_result"
    }
   ],
   "source": [
    "cities_df['city'][2]"
   ]
  },
  {
   "cell_type": "code",
   "execution_count": 85,
   "id": "576ad01c-a4af-4270-b3c5-813775f6f06e",
   "metadata": {
    "tags": []
   },
   "outputs": [],
   "source": [
    "def get_weather_info(cities_df):\n",
    "    API_key = OpenWeather_API_key\n",
    "    city_name = []\n",
    "    forecast_time = []\n",
    "    rain_in_last_3h = []\n",
    "    outlook = []\n",
    "    temp = []\n",
    "    feels_like = []\n",
    "    rain_prob = []\n",
    "    wind_speed = []\n",
    "    city_id = []\n",
    "    \n",
    "    for index, row in cities_df.iterrows():\n",
    "        city = row['city']\n",
    "        weather_data = requests.get(f\"http://api.openweathermap.org/data/2.5/forecast?q={city}&appid={API_key}&units=metric\")\n",
    "        weather_data_json = weather_data.json()\n",
    "        \n",
    "        #print(weather_data_json)  # Print the JSON response\n",
    "        \n",
    "        weather_list = weather_data_json.get(\"list\", [])  # Use .get() to handle missing keys\n",
    "        \n",
    "        for i, dt in enumerate(weather_list):\n",
    "            forecast_time.append(weather_list[i][\"dt\"])\n",
    "            temp.append(weather_list[i]['main'][\"temp\"])\n",
    "            feels_like.append(weather_list[i]['main'][\"feels_like\"])\n",
    "            rain_prob.append(weather_list[i]['pop'])\n",
    "            #rain_in_last_3h.append(weather_list[i]['rain']['3h'])\n",
    "            wind_speed.append(weather_list[i]['wind']['speed'])\n",
    "            outlook.append(weather_list[i]['weather'][0][\"description\"])\n",
    "            city_name.append(city)\n",
    "            city_id.append(cities_df['city_id'][index])\n",
    "            \n",
    "    weather_df = pd.DataFrame(list(zip(city_id, forecast_time, outlook,temp,  feels_like, wind_speed , rain_prob)), \n",
    "                                  columns=[\"city_id\", \"forecast_time\", \"outlook\", \"temperature\",  \"feels_like\", \"wind_speed\", \"rain_prob\"])\n",
    "    weather_df['forecast_time'] = pd.to_datetime(weather_df['forecast_time'], unit='s')\n",
    "        \n",
    "    return weather_df"
   ]
  },
  {
   "cell_type": "code",
   "execution_count": 86,
   "id": "977f1f3a-30ee-414d-8dae-623f317b8ff9",
   "metadata": {
    "tags": []
   },
   "outputs": [],
   "source": [
    "weather_df = get_weather_info(cities_df)"
   ]
  },
  {
   "cell_type": "code",
   "execution_count": 87,
   "id": "7433a165-e07f-486d-90bb-1e3b57eb8704",
   "metadata": {
    "tags": []
   },
   "outputs": [
    {
     "data": {
      "text/html": [
       "<div>\n",
       "<style scoped>\n",
       "    .dataframe tbody tr th:only-of-type {\n",
       "        vertical-align: middle;\n",
       "    }\n",
       "\n",
       "    .dataframe tbody tr th {\n",
       "        vertical-align: top;\n",
       "    }\n",
       "\n",
       "    .dataframe thead th {\n",
       "        text-align: right;\n",
       "    }\n",
       "</style>\n",
       "<table border=\"1\" class=\"dataframe\">\n",
       "  <thead>\n",
       "    <tr style=\"text-align: right;\">\n",
       "      <th></th>\n",
       "      <th>city_id</th>\n",
       "      <th>forecast_time</th>\n",
       "      <th>outlook</th>\n",
       "      <th>temperature</th>\n",
       "      <th>feels_like</th>\n",
       "      <th>wind_speed</th>\n",
       "      <th>rain_prob</th>\n",
       "    </tr>\n",
       "  </thead>\n",
       "  <tbody>\n",
       "    <tr>\n",
       "      <th>0</th>\n",
       "      <td>1</td>\n",
       "      <td>2024-02-13 15:00:00</td>\n",
       "      <td>broken clouds</td>\n",
       "      <td>9.08</td>\n",
       "      <td>6.86</td>\n",
       "      <td>4.03</td>\n",
       "      <td>0.0</td>\n",
       "    </tr>\n",
       "    <tr>\n",
       "      <th>1</th>\n",
       "      <td>1</td>\n",
       "      <td>2024-02-13 18:00:00</td>\n",
       "      <td>broken clouds</td>\n",
       "      <td>7.84</td>\n",
       "      <td>5.87</td>\n",
       "      <td>3.07</td>\n",
       "      <td>0.0</td>\n",
       "    </tr>\n",
       "    <tr>\n",
       "      <th>2</th>\n",
       "      <td>1</td>\n",
       "      <td>2024-02-13 21:00:00</td>\n",
       "      <td>broken clouds</td>\n",
       "      <td>5.97</td>\n",
       "      <td>4.06</td>\n",
       "      <td>2.49</td>\n",
       "      <td>0.0</td>\n",
       "    </tr>\n",
       "    <tr>\n",
       "      <th>3</th>\n",
       "      <td>1</td>\n",
       "      <td>2024-02-14 00:00:00</td>\n",
       "      <td>overcast clouds</td>\n",
       "      <td>3.92</td>\n",
       "      <td>1.80</td>\n",
       "      <td>2.31</td>\n",
       "      <td>0.0</td>\n",
       "    </tr>\n",
       "    <tr>\n",
       "      <th>4</th>\n",
       "      <td>1</td>\n",
       "      <td>2024-02-14 03:00:00</td>\n",
       "      <td>overcast clouds</td>\n",
       "      <td>3.44</td>\n",
       "      <td>0.77</td>\n",
       "      <td>2.83</td>\n",
       "      <td>0.0</td>\n",
       "    </tr>\n",
       "    <tr>\n",
       "      <th>...</th>\n",
       "      <td>...</td>\n",
       "      <td>...</td>\n",
       "      <td>...</td>\n",
       "      <td>...</td>\n",
       "      <td>...</td>\n",
       "      <td>...</td>\n",
       "      <td>...</td>\n",
       "    </tr>\n",
       "    <tr>\n",
       "      <th>115</th>\n",
       "      <td>3</td>\n",
       "      <td>2024-02-18 00:00:00</td>\n",
       "      <td>light rain</td>\n",
       "      <td>6.76</td>\n",
       "      <td>6.07</td>\n",
       "      <td>1.41</td>\n",
       "      <td>0.2</td>\n",
       "    </tr>\n",
       "    <tr>\n",
       "      <th>116</th>\n",
       "      <td>3</td>\n",
       "      <td>2024-02-18 03:00:00</td>\n",
       "      <td>overcast clouds</td>\n",
       "      <td>6.36</td>\n",
       "      <td>5.49</td>\n",
       "      <td>1.51</td>\n",
       "      <td>0.0</td>\n",
       "    </tr>\n",
       "    <tr>\n",
       "      <th>117</th>\n",
       "      <td>3</td>\n",
       "      <td>2024-02-18 06:00:00</td>\n",
       "      <td>broken clouds</td>\n",
       "      <td>4.34</td>\n",
       "      <td>2.95</td>\n",
       "      <td>1.69</td>\n",
       "      <td>0.0</td>\n",
       "    </tr>\n",
       "    <tr>\n",
       "      <th>118</th>\n",
       "      <td>3</td>\n",
       "      <td>2024-02-18 09:00:00</td>\n",
       "      <td>scattered clouds</td>\n",
       "      <td>6.36</td>\n",
       "      <td>5.12</td>\n",
       "      <td>1.83</td>\n",
       "      <td>0.0</td>\n",
       "    </tr>\n",
       "    <tr>\n",
       "      <th>119</th>\n",
       "      <td>3</td>\n",
       "      <td>2024-02-18 12:00:00</td>\n",
       "      <td>few clouds</td>\n",
       "      <td>9.05</td>\n",
       "      <td>8.06</td>\n",
       "      <td>2.03</td>\n",
       "      <td>0.0</td>\n",
       "    </tr>\n",
       "  </tbody>\n",
       "</table>\n",
       "<p>120 rows × 7 columns</p>\n",
       "</div>"
      ],
      "text/plain": [
       "     city_id       forecast_time           outlook  temperature  feels_like  \\\n",
       "0          1 2024-02-13 15:00:00     broken clouds         9.08        6.86   \n",
       "1          1 2024-02-13 18:00:00     broken clouds         7.84        5.87   \n",
       "2          1 2024-02-13 21:00:00     broken clouds         5.97        4.06   \n",
       "3          1 2024-02-14 00:00:00   overcast clouds         3.92        1.80   \n",
       "4          1 2024-02-14 03:00:00   overcast clouds         3.44        0.77   \n",
       "..       ...                 ...               ...          ...         ...   \n",
       "115        3 2024-02-18 00:00:00        light rain         6.76        6.07   \n",
       "116        3 2024-02-18 03:00:00   overcast clouds         6.36        5.49   \n",
       "117        3 2024-02-18 06:00:00     broken clouds         4.34        2.95   \n",
       "118        3 2024-02-18 09:00:00  scattered clouds         6.36        5.12   \n",
       "119        3 2024-02-18 12:00:00        few clouds         9.05        8.06   \n",
       "\n",
       "     wind_speed  rain_prob  \n",
       "0          4.03        0.0  \n",
       "1          3.07        0.0  \n",
       "2          2.49        0.0  \n",
       "3          2.31        0.0  \n",
       "4          2.83        0.0  \n",
       "..          ...        ...  \n",
       "115        1.41        0.2  \n",
       "116        1.51        0.0  \n",
       "117        1.69        0.0  \n",
       "118        1.83        0.0  \n",
       "119        2.03        0.0  \n",
       "\n",
       "[120 rows x 7 columns]"
      ]
     },
     "execution_count": 87,
     "metadata": {},
     "output_type": "execute_result"
    }
   ],
   "source": [
    "weather_df"
   ]
  },
  {
   "cell_type": "code",
   "execution_count": 78,
   "id": "56a8b1cb-7136-4891-b408-e662a79203dd",
   "metadata": {
    "tags": []
   },
   "outputs": [
    {
     "data": {
      "text/plain": [
       "120"
      ]
     },
     "execution_count": 78,
     "metadata": {},
     "output_type": "execute_result"
    }
   ],
   "source": [
    "weather_df.to_sql('weather',\n",
    "                  if_exists='append',\n",
    "                  con=connection_string,\n",
    "                  index=False)"
   ]
  },
  {
   "cell_type": "code",
   "execution_count": null,
   "id": "aeced658-e811-4757-aab7-6ca983bd7943",
   "metadata": {},
   "outputs": [],
   "source": []
  }
 ],
 "metadata": {
  "kernelspec": {
   "display_name": "Python 3 (ipykernel)",
   "language": "python",
   "name": "python3"
  },
  "language_info": {
   "codemirror_mode": {
    "name": "ipython",
    "version": 3
   },
   "file_extension": ".py",
   "mimetype": "text/x-python",
   "name": "python",
   "nbconvert_exporter": "python",
   "pygments_lexer": "ipython3",
   "version": "3.11.5"
  }
 },
 "nbformat": 4,
 "nbformat_minor": 5
}
