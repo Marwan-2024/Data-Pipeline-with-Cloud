{
 "cells": [
  {
   "cell_type": "code",
   "execution_count": 259,
   "id": "4b9f87b1-4480-425b-8598-dd0c073a7379",
   "metadata": {
    "tags": []
   },
   "outputs": [],
   "source": [
    "import pandas as pd\n",
    "import requests\n",
    "from datetime import datetime, timedelta\n",
    "import json\n",
    "import pytz \n",
    "from IPython.display import JSON\n",
    "from keys import RapidAPI_Key\n",
    "from keys import MySQL_Pass\n",
    "\n",
    "def create_sql_connection():\n",
    "    schema = \"sql_escooter_forecast\"\n",
    "    host = \"127.0.0.1\"\n",
    "    user = \"root\"\n",
    "    password = MySQL_Pass\n",
    "    port = 3306\n",
    "    connection_string = f'mysql+pymysql://{user}:{password}@{host}:{port}/{schema}'\n",
    "\n",
    "    return connection_string\n",
    "\n",
    "def read_city_table_from_sql(connection_str):\n",
    "    cities_df = pd.read_sql('SELECT city_id, city FROM cities', connection_str)\n",
    "    return cities_df\n",
    "\n",
    "\n",
    "#def get_airports_in_city(cities_df): #this function is not used right now. The icao code for Berlin is hardcoded in function call\n",
    "#    city_name = cities_df['city']\n",
    "#    url = \"https://aerodatabox.p.rapidapi.com/airports/search/location\"\n",
    "#    querystring = {\"lat\":\"40.688812\",\"lon\":\"-74.044369\",\"radiusKm\":\"50\",\"limit\":\"10\",\"withFlightInfoOnly\":\"true\"}\n",
    "#    headers = {\n",
    "#        \"X-RapidAPI-Key\": \"SIGN-UP-FOR-KEY\",\n",
    "#        \"X-RapidAPI-Host\": \"aerodatabox.p.rapidapi.com\"\n",
    "#    }\n",
    "#    response = requests.get(url, headers=headers, params=querystring)\n",
    "#    print(response.json())\n",
    "#   \n",
    "#    return icao_list\n",
    "    \n",
    "def retrieve_flight_data(icao_list):\n",
    "    flight_items = []\n",
    "    berlin_timezone = pytz.timezone(\"Europe/Berlin\")  # Define Berlin timezone\n",
    "    current_datetime = datetime.now()\n",
    "    next_day_datetime = current_datetime + timedelta(days=1)\n",
    "    \n",
    "    for icao in icao_list:\n",
    "        # Define the time slots\n",
    "        time_slots = [\n",
    "            (next_day_datetime.replace(hour=0, minute=0, second=0, microsecond=0),\n",
    "             next_day_datetime.replace(hour=11, minute=59, second=59, microsecond=999999)),\n",
    "            (next_day_datetime.replace(hour=12, minute=0, second=0, microsecond=0),\n",
    "             next_day_datetime.replace(hour=23, minute=59, second=59, microsecond=999999))\n",
    "        ]\n",
    "\n",
    "        retrieval_time = datetime.now(berlin_timezone).strftime(\"%Y-%m-%d %H:%M:%S\")\n",
    "        url_base = f\"https://aerodatabox.p.rapidapi.com/flights/airports/icao/{icao}/\"\n",
    "        \n",
    "        headers = {\n",
    "            \"X-RapidAPI-Key\": RapidAPI_Key,\n",
    "            \"X-RapidAPI-Host\": \"aerodatabox.p.rapidapi.com\"\n",
    "        }\n",
    "\n",
    "        for i, (start_time, end_time) in enumerate(time_slots, start=1):\n",
    "            # Format the dates in the required format for the API\n",
    "            start_datetime = start_time.strftime(\"%Y-%m-%dT%H:%M\")\n",
    "            end_datetime = end_time.strftime(\"%Y-%m-%dT%H:%M\")\n",
    "\n",
    "            url = f\"{url_base}{start_datetime}/{end_datetime}\"\n",
    "\n",
    "            querystring = {\n",
    "                \"withLeg\": \"true\",\n",
    "                \"direction\": \"Arrival\",\n",
    "                \"withCancelled\": \"false\",\n",
    "                \"withCodeshared\": \"false\",\n",
    "                \"withCargo\": \"false\",\n",
    "                \"withPrivate\": \"false\",\n",
    "                \"withLocation\": \"false\",\n",
    "                \"start\": start_datetime,\n",
    "                \"end\": end_datetime\n",
    "            }\n",
    "\n",
    "            response = requests.get(url, headers=headers, params=querystring)\n",
    "\n",
    "            # Extract JSON data from response\n",
    "            data = response.json()\n",
    "\n",
    "            for item in data[\"arrivals\"]:\n",
    "                flight_item = {\n",
    "                    \"arrival_airport_icao\": icao,\n",
    "                    \"departure_airport_icao\": item[\"departure\"][\"airport\"].get(\"icao\", None),\n",
    "                    \"departure_airport_name\": item[\"departure\"][\"airport\"].get(\"name\", None),\n",
    "                    \"scheduled_arrival_time\": item[\"arrival\"][\"scheduledTime\"].get(\"local\", None),\n",
    "                    \"flight_number\": item.get(\"number\", None),\n",
    "                    \"data_retrieval_time\": retrieval_time\n",
    "                }\n",
    "\n",
    "                flight_items.append(flight_item)\n",
    "                \n",
    "            flights_df = pd.DataFrame(flight_items)\n",
    "            #flights_df[\"scheduled_arrival_time\"] = flights_df[\"scheduled_arrival_time\"].str[:-6]\n",
    "            flights_df['scheduled_arrival_time'] = pd.to_datetime(flights_df['scheduled_arrival_time']).dt.tz_localize(None)\n",
    "            flights_df[\"scheduled_arrival_time\"] = pd.to_datetime(flights_df[\"scheduled_arrival_time\"])\n",
    "            flights_df[\"data_retrieval_time\"] = pd.to_datetime(flights_df[\"data_retrieval_time\"])\n",
    "    \n",
    "    return flights_df\n",
    "\n",
    "def push_flights_data_to_sql(flights_df, conn_str):\n",
    "    \n",
    "    flights_df.to_sql('flights',\n",
    "                      if_exists='append',\n",
    "                      con=conn_str,\n",
    "                      index=False)\n",
    "    return 'Done Successfully!'"
   ]
  },
  {
   "cell_type": "code",
   "execution_count": 261,
   "id": "235343c1-66a7-46fb-81ad-fb56c05b6b2f",
   "metadata": {
    "tags": []
   },
   "outputs": [
    {
     "name": "stdout",
     "output_type": "stream",
     "text": [
      "{'message': 'You are not subscribed to this API.'}\n"
     ]
    },
    {
     "data": {
      "text/plain": [
       "'Done Successfully!'"
      ]
     },
     "execution_count": 261,
     "metadata": {},
     "output_type": "execute_result"
    }
   ],
   "source": [
    "con_str = create_sql_connection()\n",
    "city_df = read_city_table_from_sql(con_str)\n",
    "#icao_list = get_airports_in_city(city_df)\n",
    "icao_list = [\"EDDB\"]  \n",
    "flight_data = retrieve_flight_data(icao_list)\n",
    "push_flights_data_to_sql(flight_data, con_str)"
   ]
  },
  {
   "cell_type": "code",
   "execution_count": 262,
   "id": "dda76432-2b22-4393-936a-c35cfc9c667a",
   "metadata": {
    "tags": []
   },
   "outputs": [
    {
     "data": {
      "text/plain": [
       "['EDDB']"
      ]
     },
     "execution_count": 262,
     "metadata": {},
     "output_type": "execute_result"
    }
   ],
   "source": [
    "icao_list"
   ]
  },
  {
   "cell_type": "code",
   "execution_count": null,
   "id": "009143d8-9130-485e-b888-c0f3a670c07f",
   "metadata": {},
   "outputs": [],
   "source": []
  }
 ],
 "metadata": {
  "kernelspec": {
   "display_name": "Python 3 (ipykernel)",
   "language": "python",
   "name": "python3"
  },
  "language_info": {
   "codemirror_mode": {
    "name": "ipython",
    "version": 3
   },
   "file_extension": ".py",
   "mimetype": "text/x-python",
   "name": "python",
   "nbconvert_exporter": "python",
   "pygments_lexer": "ipython3",
   "version": "3.11.5"
  }
 },
 "nbformat": 4,
 "nbformat_minor": 5
}
